{
 "cells": [
  {
   "cell_type": "code",
   "execution_count": 28,
   "metadata": {},
   "outputs": [
    {
     "name": "stdout",
     "output_type": "stream",
     "text": [
      "The initial number of coconuts is  823537.0 , first pirate gets 157638.0 coconuts, second pirate gets 140831.0 coconuts, third pirate gets 126425.0 coconuts, fourth pirate gets 114077.0 coconuts, fifth pirate gets 103493.0 coconuts, sixth pirate gets 94421.0 coconuts and seventh pirate gets  86645.0 coconuts\n"
     ]
    }
   ],
   "source": [
    "f=0 #Flag variable that is set to 1 if a solution is found\n",
    "x = 7    #Initial value of x to test for, where x is the final heap to be divided among 7 pirates on the next morning \n",
    "while (f==0):  #Loop is executed until a solution is found\n",
    "  x1=(7*x/6)+1   #Amount split up by the seventh pirate \n",
    "  if (x1%6==0):  #Only if a whole number split is obtained, we proceed to next step\n",
    "      x2=(7*x1/6)+1   #Amount split up by the sixth pirate\n",
    "      if (x2%6==0):\n",
    "        x3=(7*x2/6)+1   #Amount split up by the fifth pirate\n",
    "        if(x3%6==0):\n",
    "          x4=(7*x3/6)+1   #Amount split up by the fourth pirate\n",
    "          if(x4%6==0):\n",
    "            x5=(7*x4/6)+1   #Amount split up by the third pirate\n",
    "            if (x5%6==0):\n",
    "              x6=(7*x5/6)+1   #Amount split up by the second pirate\n",
    "              if(x6%6==0):\n",
    "                x7=(7*x6/6)+1   #Amount split up by the first pirate\n",
    "                print('The initial number of coconuts is ',str(x7), ', first pirate gets',str(((x7-1)/7)+(x/7)),'coconuts, second pirate gets',str(((x6-1)/7)+(x/7)),'coconuts, third pirate gets',str(((x5-1)/7)+(x/7)),'coconuts, fourth pirate gets',str(((x4-1)/7)+(x/7)),'coconuts, fifth pirate gets',str(((x3-1)/7)+(x/7)),'coconuts, sixth pirate gets',str(((x2-1)/7)+(x/7)),'coconuts and seventh pirate gets ',str(((x1-1)/7)+(x/7)),'coconuts')   \n",
    "                f=1  #Set flag to 1\n",
    "  x=x+1   "
   ]
  },
  {
   "cell_type": "code",
   "execution_count": 27,
   "metadata": {},
   "outputs": [
    {
     "data": {
      "text/plain": [
       "823530"
      ]
     },
     "execution_count": 27,
     "metadata": {},
     "output_type": "execute_result"
    }
   ],
   "source": [
    "157638+140831+126425+114077+103493+94421+86645"
   ]
  }
 ],
 "metadata": {
  "kernelspec": {
   "display_name": "Python 3",
   "language": "python",
   "name": "python3"
  },
  "language_info": {
   "codemirror_mode": {
    "name": "ipython",
    "version": 3
   },
   "file_extension": ".py",
   "mimetype": "text/x-python",
   "name": "python",
   "nbconvert_exporter": "python",
   "pygments_lexer": "ipython3",
   "version": "3.6.2"
  }
 },
 "nbformat": 4,
 "nbformat_minor": 2
}
